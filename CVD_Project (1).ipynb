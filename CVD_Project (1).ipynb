{
  "cells": [
    {
      "cell_type": "markdown",
      "metadata": {
        "id": "wBLdQ4IUHrME"
      },
      "source": [
        "# CARDIOVASCULAR REPORT PREDICTION AMONG ANIMALS"
      ]
    },
    {
      "cell_type": "markdown",
      "metadata": {},
      "source": [
        "## OVERVIEW\n",
        "In this report, we will explore the factors that contribute to cardiovascular disease in animals and develop a predictive model to estimate the risk of cardiovascular disease based on various factors.\n",
        "Cardiovascular disease is a leading cause of death in both humans and animals. In animals, cardiovascular disease can be caused by a variety of factors, including genetics, lifestyle, and environmental factors.\n",
        "\n",
        "## OBJECTIVES\n",
        "- Tendering results of our analysis, including the performance of the predictive model and the factors that contribute to cardiovascular disease in animals.\n",
        "\n"
      ]
    },
    {
      "cell_type": "code",
      "execution_count": 114,
      "metadata": {
        "id": "7ihsLTET4tRS"
      },
      "outputs": [],
      "source": [
        "# Importing necessary libraries\n",
        "import numpy as np\n",
        "import pandas as pd\n",
        "import matplotlib.pyplot as plt\n",
        "import seaborn as sns\n",
        "\n",
        "# preprocessing\n",
        "from sklearn.preprocessing import LabelEncoder\n",
        "from sklearn.model_selection import train_test_split, cross_val_score, GridSearchCV\n",
        "from sklearn.impute import SimpleImputer\n",
        "from sklearn.preprocessing import StandardScaler, OneHotEncoder\n",
        "from sklearn.compose import ColumnTransformer\n",
        "from sklearn.pipeline import Pipeline\n",
        "\n",
        "\n",
        "#from sklearn.linear_model import LogisticRegression\n",
        "#from sklearn.metrics import accuracy_score, confusion_matrix, classification_report\n",
        "from sklearn.svm import SVC, LinearSVC\n",
        "from sklearn.neighbors import KNeighborsClassifier\n",
        "from sklearn.metrics import accuracy_score\n",
        "from sklearn.linear_model import SGDClassifier\n",
        "from sklearn.ensemble import GradientBoostingClassifier\n",
        "from sklearn.ensemble import RandomForestClassifier\n",
        "from sklearn.tree import DecisionTreeClassifier\n",
        "from xgboost import XGBClassifier\n",
        "from tensorflow.keras.models import Sequential\n",
        "from tensorflow.keras.layers import Dense\n",
        "from tensorflow.keras.optimizers import Adam\n",
        "\n",
        "\n",
        "\n",
        "\n",
        "# models\n",
        "from sklearn.linear_model import LogisticRegression, Perceptron, RidgeClassifier, SGDClassifier\n",
        "from sklearn.svm import SVC, LinearSVC\n",
        "from sklearn.ensemble import RandomForestClassifier, GradientBoostingClassifier, ExtraTreesClassifier\n",
        "from sklearn.ensemble import BaggingClassifier, AdaBoostClassifier, VotingClassifier\n",
        "from sklearn.neighbors import KNeighborsClassifier\n",
        "from sklearn.naive_bayes import GaussianNB\n",
        "from sklearn.tree import DecisionTreeClassifier\n",
        "from sklearn import metrics\n",
        "from sklearn.metrics import accuracy_score, confusion_matrix, classification_report\n",
        "import xgboost as xgb\n",
        "from xgboost import XGBClassifier\n",
        "import lightgbm as lgb\n",
        "from lightgbm import LGBMClassifier\n",
        "\n",
        "\n",
        "\n",
        "# NN models\n",
        "import keras\n",
        "from keras.models import Sequential\n",
        "from keras.layers import Dense, Dropout\n",
        "from keras import optimizers\n",
        "from tensorflow.keras.layers import Dense, Dropout\n",
        "from tensorflow.keras import optimizers\n",
        "from tensorflow.keras.callbacks import EarlyStopping, ModelCheckpoint\n",
        "from keras.callbacks import EarlyStopping, ModelCheckpoint\n",
        "\n",
        "# model tuning\n",
        "from hyperopt import STATUS_OK, Trials, fmin, hp, tpe, space_eval\n",
        "\n",
        "# import warnings filter\n",
        "from warnings import simplefilter\n",
        "# ignore all future warnings\n",
        "simplefilter(action='ignore', category=FutureWarning)"
      ]
    },
    {
      "cell_type": "code",
      "execution_count": 115,
      "metadata": {
        "id": "Iyr2wnmf4-YT"
      },
      "outputs": [],
      "source": [
        "#Load the data\n",
        "df = pd.read_csv('Files/Heart_data.csv')"
      ]
    },
    {
      "cell_type": "code",
      "execution_count": 116,
      "metadata": {
        "colab": {
          "base_uri": "https://localhost:8080/",
          "height": 206
        },
        "id": "JcQpao945JPA",
        "outputId": "9b28cfe8-d597-4132-efd5-948e6ecaf83e"
      },
      "outputs": [
        {
          "data": {
            "text/html": [
              "<div>\n",
              "<style scoped>\n",
              "    .dataframe tbody tr th:only-of-type {\n",
              "        vertical-align: middle;\n",
              "    }\n",
              "\n",
              "    .dataframe tbody tr th {\n",
              "        vertical-align: top;\n",
              "    }\n",
              "\n",
              "    .dataframe thead th {\n",
              "        text-align: right;\n",
              "    }\n",
              "</style>\n",
              "<table border=\"1\" class=\"dataframe\">\n",
              "  <thead>\n",
              "    <tr style=\"text-align: right;\">\n",
              "      <th></th>\n",
              "      <th>age</th>\n",
              "      <th>sex</th>\n",
              "      <th>cp</th>\n",
              "      <th>trestbps</th>\n",
              "      <th>chol</th>\n",
              "      <th>fbs</th>\n",
              "      <th>restecg</th>\n",
              "      <th>thalach</th>\n",
              "      <th>exang</th>\n",
              "      <th>oldpeak</th>\n",
              "      <th>slope</th>\n",
              "      <th>ca</th>\n",
              "      <th>thal</th>\n",
              "      <th>target</th>\n",
              "    </tr>\n",
              "  </thead>\n",
              "  <tbody>\n",
              "    <tr>\n",
              "      <th>0</th>\n",
              "      <td>63.0</td>\n",
              "      <td>1.0</td>\n",
              "      <td>1.0</td>\n",
              "      <td>145.0</td>\n",
              "      <td>233.0</td>\n",
              "      <td>1.0</td>\n",
              "      <td>2.0</td>\n",
              "      <td>150.0</td>\n",
              "      <td>0.0</td>\n",
              "      <td>2.3</td>\n",
              "      <td>3.0</td>\n",
              "      <td>0.0</td>\n",
              "      <td>6.0</td>\n",
              "      <td>0</td>\n",
              "    </tr>\n",
              "    <tr>\n",
              "      <th>1</th>\n",
              "      <td>67.0</td>\n",
              "      <td>1.0</td>\n",
              "      <td>4.0</td>\n",
              "      <td>160.0</td>\n",
              "      <td>286.0</td>\n",
              "      <td>0.0</td>\n",
              "      <td>2.0</td>\n",
              "      <td>108.0</td>\n",
              "      <td>1.0</td>\n",
              "      <td>NaN</td>\n",
              "      <td>2.0</td>\n",
              "      <td>3.0</td>\n",
              "      <td>3.0</td>\n",
              "      <td>2</td>\n",
              "    </tr>\n",
              "    <tr>\n",
              "      <th>2</th>\n",
              "      <td>67.0</td>\n",
              "      <td>1.0</td>\n",
              "      <td>4.0</td>\n",
              "      <td>120.0</td>\n",
              "      <td>229.0</td>\n",
              "      <td>0.0</td>\n",
              "      <td>2.0</td>\n",
              "      <td>129.0</td>\n",
              "      <td>1.0</td>\n",
              "      <td>2.6</td>\n",
              "      <td>2.0</td>\n",
              "      <td>2.0</td>\n",
              "      <td>7.0</td>\n",
              "      <td>1</td>\n",
              "    </tr>\n",
              "    <tr>\n",
              "      <th>3</th>\n",
              "      <td>37.0</td>\n",
              "      <td>1.0</td>\n",
              "      <td>3.0</td>\n",
              "      <td>130.0</td>\n",
              "      <td>250.0</td>\n",
              "      <td>0.0</td>\n",
              "      <td>NaN</td>\n",
              "      <td>187.0</td>\n",
              "      <td>0.0</td>\n",
              "      <td>3.5</td>\n",
              "      <td>3.0</td>\n",
              "      <td>0.0</td>\n",
              "      <td>3.0</td>\n",
              "      <td>0</td>\n",
              "    </tr>\n",
              "    <tr>\n",
              "      <th>4</th>\n",
              "      <td>41.0</td>\n",
              "      <td>0.0</td>\n",
              "      <td>2.0</td>\n",
              "      <td>130.0</td>\n",
              "      <td>204.0</td>\n",
              "      <td>0.0</td>\n",
              "      <td>2.0</td>\n",
              "      <td>172.0</td>\n",
              "      <td>0.0</td>\n",
              "      <td>1.4</td>\n",
              "      <td>1.0</td>\n",
              "      <td>0.0</td>\n",
              "      <td>3.0</td>\n",
              "      <td>0</td>\n",
              "    </tr>\n",
              "  </tbody>\n",
              "</table>\n",
              "</div>"
            ],
            "text/plain": [
              "    age  sex   cp  trestbps   chol  fbs  restecg  thalach  exang  oldpeak  \\\n",
              "0  63.0  1.0  1.0     145.0  233.0  1.0      2.0    150.0    0.0      2.3   \n",
              "1  67.0  1.0  4.0     160.0  286.0  0.0      2.0    108.0    1.0      NaN   \n",
              "2  67.0  1.0  4.0     120.0  229.0  0.0      2.0    129.0    1.0      2.6   \n",
              "3  37.0  1.0  3.0     130.0  250.0  0.0      NaN    187.0    0.0      3.5   \n",
              "4  41.0  0.0  2.0     130.0  204.0  0.0      2.0    172.0    0.0      1.4   \n",
              "\n",
              "   slope   ca  thal  target  \n",
              "0    3.0  0.0   6.0       0  \n",
              "1    2.0  3.0   3.0       2  \n",
              "2    2.0  2.0   7.0       1  \n",
              "3    3.0  0.0   3.0       0  \n",
              "4    1.0  0.0   3.0       0  "
            ]
          },
          "execution_count": 116,
          "metadata": {},
          "output_type": "execute_result"
        }
      ],
      "source": [
        "df.head()"
      ]
    },
    {
      "cell_type": "code",
      "execution_count": 117,
      "metadata": {
        "colab": {
          "base_uri": "https://localhost:8080/"
        },
        "id": "lpQPuCi-in3I",
        "outputId": "da92f608-d52d-4749-a2cd-758fb66fa6ac"
      },
      "outputs": [
        {
          "name": "stdout",
          "output_type": "stream",
          "text": [
            "<class 'pandas.core.frame.DataFrame'>\n",
            "RangeIndex: 1592 entries, 0 to 1591\n",
            "Data columns (total 14 columns):\n",
            " #   Column    Non-Null Count  Dtype  \n",
            "---  ------    --------------  -----  \n",
            " 0   age       1513 non-null   float64\n",
            " 1   sex       1561 non-null   float64\n",
            " 2   cp        1433 non-null   float64\n",
            " 3   trestbps  1592 non-null   float64\n",
            " 4   chol      1529 non-null   float64\n",
            " 5   fbs       1513 non-null   float64\n",
            " 6   restecg   1585 non-null   float64\n",
            " 7   thalach   1592 non-null   float64\n",
            " 8   exang     1545 non-null   float64\n",
            " 9   oldpeak   1561 non-null   float64\n",
            " 10  slope     1538 non-null   float64\n",
            " 11  ca        1592 non-null   float64\n",
            " 12  thal      1585 non-null   float64\n",
            " 13  target    1592 non-null   int64  \n",
            "dtypes: float64(13), int64(1)\n",
            "memory usage: 174.3 KB\n"
          ]
        }
      ],
      "source": [
        "df.info()"
      ]
    },
    {
      "cell_type": "markdown",
      "metadata": {
        "id": "fP22Gkp8H7nT"
      },
      "source": [
        "# **EDA**"
      ]
    },
    {
      "cell_type": "code",
      "execution_count": 118,
      "metadata": {
        "colab": {
          "base_uri": "https://localhost:8080/",
          "height": 1000
        },
        "id": "Vstohls1kGVl",
        "outputId": "3407c4b8-5b24-4d86-f8ae-b68308689b2a"
      },
      "outputs": [
        {
          "data": {
            "image/png": "[encoded data removed]",
            "text/plain": [
              "<Figure size 1200x1000 with 16 Axes>"
            ]
          },
          "metadata": {},
          "output_type": "display_data"
        },
        {
          "data": {
            "image/png": "[encoded data removed]",
            "text/plain": [
              "<Figure size 1000x800 with 2 Axes>"
            ]
          },
          "metadata": {},
          "output_type": "display_data"
        }
      ],
      "source": [
        "# Histograms for numerical features\n",
        "df.hist(figsize=(12, 10))\n",
        "plt.tight_layout()\n",
        "plt.show()\n",
        "\n",
        "# Correlation heatmap\n",
        "plt.figure(figsize=(10, 8))\n",
        "sns.heatmap(df.corr(), annot=True, cmap='coolwarm')\n",
        "plt.show()\n"
      ]
    },
    {
      "cell_type": "markdown",
      "metadata": {
        "id": "eWR3bb_PIFj0"
      },
      "source": [
        "# Data cleaning "
      ]
    },
    {
      "cell_type": "code",
      "execution_count": 119,
      "metadata": {},
      "outputs": [
        {
          "data": {
            "text/plain": [
              "age          79\n",
              "sex          31\n",
              "cp          159\n",
              "trestbps      0\n",
              "chol         63\n",
              "fbs          79\n",
              "restecg       7\n",
              "thalach       0\n",
              "exang        47\n",
              "oldpeak      31\n",
              "slope        54\n",
              "ca            0\n",
              "thal          7\n",
              "target        0\n",
              "dtype: int64"
            ]
          },
          "execution_count": 119,
          "metadata": {},
          "output_type": "execute_result"
        }
      ],
      "source": [
        "# checking for null values\n",
        "df.isna().sum()"
      ]
    },
    {
      "cell_type": "code",
      "execution_count": 120,
      "metadata": {},
      "outputs": [
        {
          "data": {
            "text/plain": [
              "458"
            ]
          },
          "execution_count": 120,
          "metadata": {},
          "output_type": "execute_result"
        }
      ],
      "source": [
        "# checking for duplicates\n",
        "df.duplicated().sum()"
      ]
    },
    {
      "cell_type": "code",
      "execution_count": 121,
      "metadata": {},
      "outputs": [
        {
          "data": {
            "text/html": [
              "<div>\n",
              "<style scoped>\n",
              "    .dataframe tbody tr th:only-of-type {\n",
              "        vertical-align: middle;\n",
              "    }\n",
              "\n",
              "    .dataframe tbody tr th {\n",
              "        vertical-align: top;\n",
              "    }\n",
              "\n",
              "    .dataframe thead th {\n",
              "        text-align: right;\n",
              "    }\n",
              "</style>\n",
              "<table border=\"1\" class=\"dataframe\">\n",
              "  <thead>\n",
              "    <tr style=\"text-align: right;\">\n",
              "      <th></th>\n",
              "      <th>age</th>\n",
              "      <th>sex</th>\n",
              "      <th>cp</th>\n",
              "      <th>trestbps</th>\n",
              "      <th>chol</th>\n",
              "      <th>fbs</th>\n",
              "      <th>restecg</th>\n",
              "      <th>thalach</th>\n",
              "      <th>exang</th>\n",
              "      <th>oldpeak</th>\n",
              "      <th>slope</th>\n",
              "      <th>ca</th>\n",
              "      <th>thal</th>\n",
              "      <th>target</th>\n",
              "    </tr>\n",
              "  </thead>\n",
              "  <tbody>\n",
              "    <tr>\n",
              "      <th>312</th>\n",
              "      <td>34.0</td>\n",
              "      <td>0.0</td>\n",
              "      <td>1.0</td>\n",
              "      <td>118.0</td>\n",
              "      <td>210.0</td>\n",
              "      <td>0.0</td>\n",
              "      <td>1.0</td>\n",
              "      <td>192.0</td>\n",
              "      <td>0.0</td>\n",
              "      <td>0.7</td>\n",
              "      <td>2.0</td>\n",
              "      <td>0.0</td>\n",
              "      <td>2.0</td>\n",
              "      <td>1</td>\n",
              "    </tr>\n",
              "    <tr>\n",
              "      <th>340</th>\n",
              "      <td>46.0</td>\n",
              "      <td>1.0</td>\n",
              "      <td>0.0</td>\n",
              "      <td>120.0</td>\n",
              "      <td>249.0</td>\n",
              "      <td>0.0</td>\n",
              "      <td>0.0</td>\n",
              "      <td>144.0</td>\n",
              "      <td>0.0</td>\n",
              "      <td>0.8</td>\n",
              "      <td>2.0</td>\n",
              "      <td>0.0</td>\n",
              "      <td>3.0</td>\n",
              "      <td>0</td>\n",
              "    </tr>\n",
              "    <tr>\n",
              "      <th>358</th>\n",
              "      <td>66.0</td>\n",
              "      <td>0.0</td>\n",
              "      <td>2.0</td>\n",
              "      <td>146.0</td>\n",
              "      <td>278.0</td>\n",
              "      <td>0.0</td>\n",
              "      <td>0.0</td>\n",
              "      <td>152.0</td>\n",
              "      <td>0.0</td>\n",
              "      <td>0.0</td>\n",
              "      <td>1.0</td>\n",
              "      <td>1.0</td>\n",
              "      <td>2.0</td>\n",
              "      <td>1</td>\n",
              "    </tr>\n",
              "    <tr>\n",
              "      <th>361</th>\n",
              "      <td>29.0</td>\n",
              "      <td>1.0</td>\n",
              "      <td>1.0</td>\n",
              "      <td>130.0</td>\n",
              "      <td>204.0</td>\n",
              "      <td>0.0</td>\n",
              "      <td>0.0</td>\n",
              "      <td>202.0</td>\n",
              "      <td>0.0</td>\n",
              "      <td>0.0</td>\n",
              "      <td>2.0</td>\n",
              "      <td>0.0</td>\n",
              "      <td>2.0</td>\n",
              "      <td>1</td>\n",
              "    </tr>\n",
              "    <tr>\n",
              "      <th>381</th>\n",
              "      <td>37.0</td>\n",
              "      <td>0.0</td>\n",
              "      <td>2.0</td>\n",
              "      <td>120.0</td>\n",
              "      <td>215.0</td>\n",
              "      <td>0.0</td>\n",
              "      <td>1.0</td>\n",
              "      <td>170.0</td>\n",
              "      <td>0.0</td>\n",
              "      <td>0.0</td>\n",
              "      <td>2.0</td>\n",
              "      <td>0.0</td>\n",
              "      <td>2.0</td>\n",
              "      <td>1</td>\n",
              "    </tr>\n",
              "    <tr>\n",
              "      <th>...</th>\n",
              "      <td>...</td>\n",
              "      <td>...</td>\n",
              "      <td>...</td>\n",
              "      <td>...</td>\n",
              "      <td>...</td>\n",
              "      <td>...</td>\n",
              "      <td>...</td>\n",
              "      <td>...</td>\n",
              "      <td>...</td>\n",
              "      <td>...</td>\n",
              "      <td>...</td>\n",
              "      <td>...</td>\n",
              "      <td>...</td>\n",
              "      <td>...</td>\n",
              "    </tr>\n",
              "    <tr>\n",
              "      <th>1432</th>\n",
              "      <td>55.0</td>\n",
              "      <td>0.0</td>\n",
              "      <td>4.0</td>\n",
              "      <td>180.0</td>\n",
              "      <td>327.0</td>\n",
              "      <td>0.0</td>\n",
              "      <td>1.0</td>\n",
              "      <td>117.0</td>\n",
              "      <td>1.0</td>\n",
              "      <td>3.4</td>\n",
              "      <td>2.0</td>\n",
              "      <td>0.0</td>\n",
              "      <td>3.0</td>\n",
              "      <td>2</td>\n",
              "    </tr>\n",
              "    <tr>\n",
              "      <th>1451</th>\n",
              "      <td>60.0</td>\n",
              "      <td>1.0</td>\n",
              "      <td>4.0</td>\n",
              "      <td>117.0</td>\n",
              "      <td>230.0</td>\n",
              "      <td>1.0</td>\n",
              "      <td>0.0</td>\n",
              "      <td>160.0</td>\n",
              "      <td>1.0</td>\n",
              "      <td>1.4</td>\n",
              "      <td>1.0</td>\n",
              "      <td>2.0</td>\n",
              "      <td>7.0</td>\n",
              "      <td>2</td>\n",
              "    </tr>\n",
              "    <tr>\n",
              "      <th>1453</th>\n",
              "      <td>66.0</td>\n",
              "      <td>1.0</td>\n",
              "      <td>4.0</td>\n",
              "      <td>112.0</td>\n",
              "      <td>212.0</td>\n",
              "      <td>0.0</td>\n",
              "      <td>2.0</td>\n",
              "      <td>132.0</td>\n",
              "      <td>1.0</td>\n",
              "      <td>0.1</td>\n",
              "      <td>1.0</td>\n",
              "      <td>1.0</td>\n",
              "      <td>3.0</td>\n",
              "      <td>2</td>\n",
              "    </tr>\n",
              "    <tr>\n",
              "      <th>1497</th>\n",
              "      <td>62.0</td>\n",
              "      <td>0.0</td>\n",
              "      <td>4.0</td>\n",
              "      <td>138.0</td>\n",
              "      <td>294.0</td>\n",
              "      <td>1.0</td>\n",
              "      <td>0.0</td>\n",
              "      <td>106.0</td>\n",
              "      <td>0.0</td>\n",
              "      <td>1.9</td>\n",
              "      <td>2.0</td>\n",
              "      <td>3.0</td>\n",
              "      <td>3.0</td>\n",
              "      <td>2</td>\n",
              "    </tr>\n",
              "    <tr>\n",
              "      <th>1572</th>\n",
              "      <td>54.0</td>\n",
              "      <td>1.0</td>\n",
              "      <td>4.0</td>\n",
              "      <td>120.0</td>\n",
              "      <td>188.0</td>\n",
              "      <td>0.0</td>\n",
              "      <td>0.0</td>\n",
              "      <td>113.0</td>\n",
              "      <td>0.0</td>\n",
              "      <td>1.4</td>\n",
              "      <td>2.0</td>\n",
              "      <td>1.0</td>\n",
              "      <td>7.0</td>\n",
              "      <td>2</td>\n",
              "    </tr>\n",
              "  </tbody>\n",
              "</table>\n",
              "<p>458 rows × 14 columns</p>\n",
              "</div>"
            ],
            "text/plain": [
              "       age  sex   cp  trestbps   chol  fbs  restecg  thalach  exang  oldpeak  \\\n",
              "312   34.0  0.0  1.0     118.0  210.0  0.0      1.0    192.0    0.0      0.7   \n",
              "340   46.0  1.0  0.0     120.0  249.0  0.0      0.0    144.0    0.0      0.8   \n",
              "358   66.0  0.0  2.0     146.0  278.0  0.0      0.0    152.0    0.0      0.0   \n",
              "361   29.0  1.0  1.0     130.0  204.0  0.0      0.0    202.0    0.0      0.0   \n",
              "381   37.0  0.0  2.0     120.0  215.0  0.0      1.0    170.0    0.0      0.0   \n",
              "...    ...  ...  ...       ...    ...  ...      ...      ...    ...      ...   \n",
              "1432  55.0  0.0  4.0     180.0  327.0  0.0      1.0    117.0    1.0      3.4   \n",
              "1451  60.0  1.0  4.0     117.0  230.0  1.0      0.0    160.0    1.0      1.4   \n",
              "1453  66.0  1.0  4.0     112.0  212.0  0.0      2.0    132.0    1.0      0.1   \n",
              "1497  62.0  0.0  4.0     138.0  294.0  1.0      0.0    106.0    0.0      1.9   \n",
              "1572  54.0  1.0  4.0     120.0  188.0  0.0      0.0    113.0    0.0      1.4   \n",
              "\n",
              "      slope   ca  thal  target  \n",
              "312     2.0  0.0   2.0       1  \n",
              "340     2.0  0.0   3.0       0  \n",
              "358     1.0  1.0   2.0       1  \n",
              "361     2.0  0.0   2.0       1  \n",
              "381     2.0  0.0   2.0       1  \n",
              "...     ...  ...   ...     ...  \n",
              "1432    2.0  0.0   3.0       2  \n",
              "1451    1.0  2.0   7.0       2  \n",
              "1453    1.0  1.0   3.0       2  \n",
              "1497    2.0  3.0   3.0       2  \n",
              "1572    2.0  1.0   7.0       2  \n",
              "\n",
              "[458 rows x 14 columns]"
            ]
          },
          "execution_count": 121,
          "metadata": {},
          "output_type": "execute_result"
        }
      ],
      "source": [
        "# checking each duplicated rows\n",
        "df[df.duplicated()]"
      ]
    },
    {
      "cell_type": "code",
      "execution_count": 122,
      "metadata": {},
      "outputs": [],
      "source": [
        "# drop duplicated rows\n",
        "df = df.drop_duplicates()"
      ]
    },
    {
      "cell_type": "code",
      "execution_count": 123,
      "metadata": {},
      "outputs": [
        {
          "data": {
            "text/plain": [
              "(1134, 14)"
            ]
          },
          "execution_count": 123,
          "metadata": {},
          "output_type": "execute_result"
        }
      ],
      "source": [
        "df.shape"
      ]
    },
    {
      "cell_type": "markdown",
      "metadata": {},
      "source": [
        "# Observation\n",
        "- We have null values in sex, cp, fbs, restecg, thalach, exang, slope and thal columns\n",
        "- We also have 461 duplicated rows"
      ]
    },
    {
      "cell_type": "code",
      "execution_count": 124,
      "metadata": {
        "colab": {
          "base_uri": "https://localhost:8080/",
          "height": 256
        },
        "id": "QJr5naArlmxN",
        "outputId": "50d84c8f-804b-4f2b-b78b-bae16f6b6c65"
      },
      "outputs": [],
      "source": [
        "# Identifying numerical and categorical columns\n",
        "numerical_cols = ['age', 'trestbps', 'chol', 'thalach', 'oldpeak']\n",
        "categorical_cols = ['sex', 'cp', 'fbs', 'restecg', 'exang', 'slope', 'ca', 'thal']"
      ]
    },
    {
      "cell_type": "code",
      "execution_count": 125,
      "metadata": {},
      "outputs": [],
      "source": [
        "# Imputers\n",
        "numerical_imputer = SimpleImputer(strategy='median')\n",
        "categorical_imputer = SimpleImputer(strategy='most_frequent')\n"
      ]
    },
    {
      "cell_type": "code",
      "execution_count": 150,
      "metadata": {},
      "outputs": [
        {
          "data": {
            "text/plain": [
              "array([0, 2, 1, 3, 4])"
            ]
          },
          "execution_count": 150,
          "metadata": {},
          "output_type": "execute_result"
        }
      ],
      "source": [
        "df['target'].unique()"
      ]
    },
    {
      "cell_type": "code",
      "execution_count": 126,
      "metadata": {},
      "outputs": [],
      "source": [
        "\n",
        "# Scaling and Encoding\n",
        "scaler = StandardScaler()\n",
        "ohe = OneHotEncoder(handle_unknown='ignore')"
      ]
    },
    {
      "cell_type": "code",
      "execution_count": 127,
      "metadata": {},
      "outputs": [],
      "source": [
        "\n",
        "# Applying transformations\n",
        "preprocessor = ColumnTransformer(\n",
        "    transformers=[\n",
        "        ('num', numerical_imputer, numerical_cols),\n",
        "        ('scale', scaler, numerical_cols),\n",
        "        ('cat', categorical_imputer, categorical_cols),\n",
        "        ('ohe', ohe, categorical_cols)\n",
        "    ])\n"
      ]
    },
    {
      "cell_type": "code",
      "execution_count": 128,
      "metadata": {},
      "outputs": [],
      "source": [
        "\n",
        "# Fit the preprocessor\n",
        "df[numerical_cols] = numerical_imputer.fit_transform(df[numerical_cols])\n",
        "\n",
        "\n",
        "# Scaling numerical columns\n",
        "df[numerical_cols] = scaler.fit_transform(df[numerical_cols])\n",
        "\n",
        "# Correctly initializing OneHotEncoder\n",
        "encoder = OneHotEncoder()\n",
        "\n",
        "# Fitting and transforming the categorical columns\n",
        "encoded_categorical_data = encoder.fit_transform(df[categorical_cols])\n"
      ]
    },
    {
      "cell_type": "code",
      "execution_count": 129,
      "metadata": {},
      "outputs": [
        {
          "data": {
            "text/html": [
              "<div>\n",
              "<style scoped>\n",
              "    .dataframe tbody tr th:only-of-type {\n",
              "        vertical-align: middle;\n",
              "    }\n",
              "\n",
              "    .dataframe tbody tr th {\n",
              "        vertical-align: top;\n",
              "    }\n",
              "\n",
              "    .dataframe thead th {\n",
              "        text-align: right;\n",
              "    }\n",
              "</style>\n",
              "<table border=\"1\" class=\"dataframe\">\n",
              "  <thead>\n",
              "    <tr style=\"text-align: right;\">\n",
              "      <th></th>\n",
              "      <th>sex_0.0</th>\n",
              "      <th>sex_1.0</th>\n",
              "      <th>sex_nan</th>\n",
              "      <th>cp_0.0</th>\n",
              "      <th>cp_1.0</th>\n",
              "      <th>cp_2.0</th>\n",
              "      <th>cp_3.0</th>\n",
              "      <th>cp_4.0</th>\n",
              "      <th>cp_nan</th>\n",
              "      <th>fbs_0.0</th>\n",
              "      <th>...</th>\n",
              "      <th>ca_2.0</th>\n",
              "      <th>ca_3.0</th>\n",
              "      <th>ca_4.0</th>\n",
              "      <th>thal_0.0</th>\n",
              "      <th>thal_1.0</th>\n",
              "      <th>thal_2.0</th>\n",
              "      <th>thal_3.0</th>\n",
              "      <th>thal_6.0</th>\n",
              "      <th>thal_7.0</th>\n",
              "      <th>thal_nan</th>\n",
              "    </tr>\n",
              "  </thead>\n",
              "  <tbody>\n",
              "    <tr>\n",
              "      <th>0</th>\n",
              "      <td>0.0</td>\n",
              "      <td>1.0</td>\n",
              "      <td>0.0</td>\n",
              "      <td>0.0</td>\n",
              "      <td>1.0</td>\n",
              "      <td>0.0</td>\n",
              "      <td>0.0</td>\n",
              "      <td>0.0</td>\n",
              "      <td>0.0</td>\n",
              "      <td>0.0</td>\n",
              "      <td>...</td>\n",
              "      <td>0.0</td>\n",
              "      <td>0.0</td>\n",
              "      <td>0.0</td>\n",
              "      <td>0.0</td>\n",
              "      <td>0.0</td>\n",
              "      <td>0.0</td>\n",
              "      <td>0.0</td>\n",
              "      <td>1.0</td>\n",
              "      <td>0.0</td>\n",
              "      <td>0.0</td>\n",
              "    </tr>\n",
              "    <tr>\n",
              "      <th>1</th>\n",
              "      <td>0.0</td>\n",
              "      <td>1.0</td>\n",
              "      <td>0.0</td>\n",
              "      <td>0.0</td>\n",
              "      <td>0.0</td>\n",
              "      <td>0.0</td>\n",
              "      <td>0.0</td>\n",
              "      <td>1.0</td>\n",
              "      <td>0.0</td>\n",
              "      <td>1.0</td>\n",
              "      <td>...</td>\n",
              "      <td>0.0</td>\n",
              "      <td>1.0</td>\n",
              "      <td>0.0</td>\n",
              "      <td>0.0</td>\n",
              "      <td>0.0</td>\n",
              "      <td>0.0</td>\n",
              "      <td>1.0</td>\n",
              "      <td>0.0</td>\n",
              "      <td>0.0</td>\n",
              "      <td>0.0</td>\n",
              "    </tr>\n",
              "    <tr>\n",
              "      <th>2</th>\n",
              "      <td>0.0</td>\n",
              "      <td>1.0</td>\n",
              "      <td>0.0</td>\n",
              "      <td>0.0</td>\n",
              "      <td>0.0</td>\n",
              "      <td>0.0</td>\n",
              "      <td>0.0</td>\n",
              "      <td>1.0</td>\n",
              "      <td>0.0</td>\n",
              "      <td>1.0</td>\n",
              "      <td>...</td>\n",
              "      <td>1.0</td>\n",
              "      <td>0.0</td>\n",
              "      <td>0.0</td>\n",
              "      <td>0.0</td>\n",
              "      <td>0.0</td>\n",
              "      <td>0.0</td>\n",
              "      <td>0.0</td>\n",
              "      <td>0.0</td>\n",
              "      <td>1.0</td>\n",
              "      <td>0.0</td>\n",
              "    </tr>\n",
              "    <tr>\n",
              "      <th>3</th>\n",
              "      <td>0.0</td>\n",
              "      <td>1.0</td>\n",
              "      <td>0.0</td>\n",
              "      <td>0.0</td>\n",
              "      <td>0.0</td>\n",
              "      <td>0.0</td>\n",
              "      <td>1.0</td>\n",
              "      <td>0.0</td>\n",
              "      <td>0.0</td>\n",
              "      <td>1.0</td>\n",
              "      <td>...</td>\n",
              "      <td>0.0</td>\n",
              "      <td>0.0</td>\n",
              "      <td>0.0</td>\n",
              "      <td>0.0</td>\n",
              "      <td>0.0</td>\n",
              "      <td>0.0</td>\n",
              "      <td>1.0</td>\n",
              "      <td>0.0</td>\n",
              "      <td>0.0</td>\n",
              "      <td>0.0</td>\n",
              "    </tr>\n",
              "    <tr>\n",
              "      <th>4</th>\n",
              "      <td>1.0</td>\n",
              "      <td>0.0</td>\n",
              "      <td>0.0</td>\n",
              "      <td>0.0</td>\n",
              "      <td>0.0</td>\n",
              "      <td>1.0</td>\n",
              "      <td>0.0</td>\n",
              "      <td>0.0</td>\n",
              "      <td>0.0</td>\n",
              "      <td>1.0</td>\n",
              "      <td>...</td>\n",
              "      <td>0.0</td>\n",
              "      <td>0.0</td>\n",
              "      <td>0.0</td>\n",
              "      <td>0.0</td>\n",
              "      <td>0.0</td>\n",
              "      <td>0.0</td>\n",
              "      <td>1.0</td>\n",
              "      <td>0.0</td>\n",
              "      <td>0.0</td>\n",
              "      <td>0.0</td>\n",
              "    </tr>\n",
              "  </tbody>\n",
              "</table>\n",
              "<p>5 rows × 36 columns</p>\n",
              "</div>"
            ],
            "text/plain": [
              "   sex_0.0  sex_1.0  sex_nan  cp_0.0  cp_1.0  cp_2.0  cp_3.0  cp_4.0  cp_nan  \\\n",
              "0      0.0      1.0      0.0     0.0     1.0     0.0     0.0     0.0     0.0   \n",
              "1      0.0      1.0      0.0     0.0     0.0     0.0     0.0     1.0     0.0   \n",
              "2      0.0      1.0      0.0     0.0     0.0     0.0     0.0     1.0     0.0   \n",
              "3      0.0      1.0      0.0     0.0     0.0     0.0     1.0     0.0     0.0   \n",
              "4      1.0      0.0      0.0     0.0     0.0     1.0     0.0     0.0     0.0   \n",
              "\n",
              "   fbs_0.0  ...  ca_2.0  ca_3.0  ca_4.0  thal_0.0  thal_1.0  thal_2.0  \\\n",
              "0      0.0  ...     0.0     0.0     0.0       0.0       0.0       0.0   \n",
              "1      1.0  ...     0.0     1.0     0.0       0.0       0.0       0.0   \n",
              "2      1.0  ...     1.0     0.0     0.0       0.0       0.0       0.0   \n",
              "3      1.0  ...     0.0     0.0     0.0       0.0       0.0       0.0   \n",
              "4      1.0  ...     0.0     0.0     0.0       0.0       0.0       0.0   \n",
              "\n",
              "   thal_3.0  thal_6.0  thal_7.0  thal_nan  \n",
              "0       0.0       1.0       0.0       0.0  \n",
              "1       1.0       0.0       0.0       0.0  \n",
              "2       0.0       0.0       1.0       0.0  \n",
              "3       1.0       0.0       0.0       0.0  \n",
              "4       1.0       0.0       0.0       0.0  \n",
              "\n",
              "[5 rows x 36 columns]"
            ]
          },
          "execution_count": 129,
          "metadata": {},
          "output_type": "execute_result"
        }
      ],
      "source": [
        "# Converting to a dense DataFrame\n",
        "encoded_categorical_df = pd.DataFrame(encoded_categorical_data.toarray(), columns=encoder.get_feature_names_out(categorical_cols))\n",
        "\n",
        "encoded_categorical_df.head()\n"
      ]
    },
    {
      "cell_type": "code",
      "execution_count": 130,
      "metadata": {
        "colab": {
          "base_uri": "https://localhost:8080/",
          "height": 256
        },
        "id": "yezBaO_1loI0",
        "outputId": "724cde7c-cbd8-4260-fcb8-b43b197adf14"
      },
      "outputs": [
        {
          "data": {
            "text/html": [
              "<div>\n",
              "<style scoped>\n",
              "    .dataframe tbody tr th:only-of-type {\n",
              "        vertical-align: middle;\n",
              "    }\n",
              "\n",
              "    .dataframe tbody tr th {\n",
              "        vertical-align: top;\n",
              "    }\n",
              "\n",
              "    .dataframe thead th {\n",
              "        text-align: right;\n",
              "    }\n",
              "</style>\n",
              "<table border=\"1\" class=\"dataframe\">\n",
              "  <thead>\n",
              "    <tr style=\"text-align: right;\">\n",
              "      <th></th>\n",
              "      <th>age</th>\n",
              "      <th>trestbps</th>\n",
              "      <th>chol</th>\n",
              "      <th>thalach</th>\n",
              "      <th>oldpeak</th>\n",
              "      <th>sex_0.0</th>\n",
              "      <th>sex_1.0</th>\n",
              "      <th>sex_nan</th>\n",
              "      <th>cp_0.0</th>\n",
              "      <th>cp_1.0</th>\n",
              "      <th>...</th>\n",
              "      <th>ca_2.0</th>\n",
              "      <th>ca_3.0</th>\n",
              "      <th>ca_4.0</th>\n",
              "      <th>thal_0.0</th>\n",
              "      <th>thal_1.0</th>\n",
              "      <th>thal_2.0</th>\n",
              "      <th>thal_3.0</th>\n",
              "      <th>thal_6.0</th>\n",
              "      <th>thal_7.0</th>\n",
              "      <th>thal_nan</th>\n",
              "    </tr>\n",
              "  </thead>\n",
              "  <tbody>\n",
              "    <tr>\n",
              "      <th>0</th>\n",
              "      <td>0.981107</td>\n",
              "      <td>0.750819</td>\n",
              "      <td>-0.273819</td>\n",
              "      <td>0.005347</td>\n",
              "      <td>1.067309</td>\n",
              "      <td>0.0</td>\n",
              "      <td>1.0</td>\n",
              "      <td>0.0</td>\n",
              "      <td>0.0</td>\n",
              "      <td>1.0</td>\n",
              "      <td>...</td>\n",
              "      <td>0.0</td>\n",
              "      <td>0.0</td>\n",
              "      <td>0.0</td>\n",
              "      <td>0.0</td>\n",
              "      <td>0.0</td>\n",
              "      <td>0.0</td>\n",
              "      <td>0.0</td>\n",
              "      <td>1.0</td>\n",
              "      <td>0.0</td>\n",
              "      <td>0.0</td>\n",
              "    </tr>\n",
              "    <tr>\n",
              "      <th>1</th>\n",
              "      <td>1.438769</td>\n",
              "      <td>1.591875</td>\n",
              "      <td>0.787928</td>\n",
              "      <td>-1.839956</td>\n",
              "      <td>-0.223846</td>\n",
              "      <td>0.0</td>\n",
              "      <td>1.0</td>\n",
              "      <td>0.0</td>\n",
              "      <td>0.0</td>\n",
              "      <td>0.0</td>\n",
              "      <td>...</td>\n",
              "      <td>0.0</td>\n",
              "      <td>1.0</td>\n",
              "      <td>0.0</td>\n",
              "      <td>0.0</td>\n",
              "      <td>0.0</td>\n",
              "      <td>0.0</td>\n",
              "      <td>1.0</td>\n",
              "      <td>0.0</td>\n",
              "      <td>0.0</td>\n",
              "      <td>0.0</td>\n",
              "    </tr>\n",
              "    <tr>\n",
              "      <th>2</th>\n",
              "      <td>1.438769</td>\n",
              "      <td>-0.650941</td>\n",
              "      <td>-0.353951</td>\n",
              "      <td>-0.917305</td>\n",
              "      <td>1.325540</td>\n",
              "      <td>0.0</td>\n",
              "      <td>1.0</td>\n",
              "      <td>0.0</td>\n",
              "      <td>0.0</td>\n",
              "      <td>0.0</td>\n",
              "      <td>...</td>\n",
              "      <td>1.0</td>\n",
              "      <td>0.0</td>\n",
              "      <td>0.0</td>\n",
              "      <td>0.0</td>\n",
              "      <td>0.0</td>\n",
              "      <td>0.0</td>\n",
              "      <td>0.0</td>\n",
              "      <td>0.0</td>\n",
              "      <td>1.0</td>\n",
              "      <td>0.0</td>\n",
              "    </tr>\n",
              "    <tr>\n",
              "      <th>3</th>\n",
              "      <td>-1.993694</td>\n",
              "      <td>-0.090237</td>\n",
              "      <td>0.066741</td>\n",
              "      <td>1.630971</td>\n",
              "      <td>2.100233</td>\n",
              "      <td>0.0</td>\n",
              "      <td>1.0</td>\n",
              "      <td>0.0</td>\n",
              "      <td>0.0</td>\n",
              "      <td>0.0</td>\n",
              "      <td>...</td>\n",
              "      <td>0.0</td>\n",
              "      <td>0.0</td>\n",
              "      <td>0.0</td>\n",
              "      <td>0.0</td>\n",
              "      <td>0.0</td>\n",
              "      <td>0.0</td>\n",
              "      <td>1.0</td>\n",
              "      <td>0.0</td>\n",
              "      <td>0.0</td>\n",
              "      <td>0.0</td>\n",
              "    </tr>\n",
              "    <tr>\n",
              "      <th>4</th>\n",
              "      <td>-1.536032</td>\n",
              "      <td>-0.090237</td>\n",
              "      <td>-0.854775</td>\n",
              "      <td>0.971934</td>\n",
              "      <td>0.292616</td>\n",
              "      <td>1.0</td>\n",
              "      <td>0.0</td>\n",
              "      <td>0.0</td>\n",
              "      <td>0.0</td>\n",
              "      <td>0.0</td>\n",
              "      <td>...</td>\n",
              "      <td>0.0</td>\n",
              "      <td>0.0</td>\n",
              "      <td>0.0</td>\n",
              "      <td>0.0</td>\n",
              "      <td>0.0</td>\n",
              "      <td>0.0</td>\n",
              "      <td>1.0</td>\n",
              "      <td>0.0</td>\n",
              "      <td>0.0</td>\n",
              "      <td>0.0</td>\n",
              "    </tr>\n",
              "  </tbody>\n",
              "</table>\n",
              "<p>5 rows × 41 columns</p>\n",
              "</div>"
            ],
            "text/plain": [
              "        age  trestbps      chol   thalach   oldpeak  sex_0.0  sex_1.0  \\\n",
              "0  0.981107  0.750819 -0.273819  0.005347  1.067309      0.0      1.0   \n",
              "1  1.438769  1.591875  0.787928 -1.839956 -0.223846      0.0      1.0   \n",
              "2  1.438769 -0.650941 -0.353951 -0.917305  1.325540      0.0      1.0   \n",
              "3 -1.993694 -0.090237  0.066741  1.630971  2.100233      0.0      1.0   \n",
              "4 -1.536032 -0.090237 -0.854775  0.971934  0.292616      1.0      0.0   \n",
              "\n",
              "   sex_nan  cp_0.0  cp_1.0  ...  ca_2.0  ca_3.0  ca_4.0  thal_0.0  thal_1.0  \\\n",
              "0      0.0     0.0     1.0  ...     0.0     0.0     0.0       0.0       0.0   \n",
              "1      0.0     0.0     0.0  ...     0.0     1.0     0.0       0.0       0.0   \n",
              "2      0.0     0.0     0.0  ...     1.0     0.0     0.0       0.0       0.0   \n",
              "3      0.0     0.0     0.0  ...     0.0     0.0     0.0       0.0       0.0   \n",
              "4      0.0     0.0     0.0  ...     0.0     0.0     0.0       0.0       0.0   \n",
              "\n",
              "   thal_2.0  thal_3.0  thal_6.0  thal_7.0  thal_nan  \n",
              "0       0.0       0.0       1.0       0.0       0.0  \n",
              "1       0.0       1.0       0.0       0.0       0.0  \n",
              "2       0.0       0.0       0.0       1.0       0.0  \n",
              "3       0.0       1.0       0.0       0.0       0.0  \n",
              "4       0.0       1.0       0.0       0.0       0.0  \n",
              "\n",
              "[5 rows x 41 columns]"
            ]
          },
          "execution_count": 130,
          "metadata": {},
          "output_type": "execute_result"
        }
      ],
      "source": [
        "# After handling missing values, scaling numerical features, and encoding categorical features,\n",
        "# the numerical features are already updated in the df DataFrame.\n",
        "\n",
        "# For demonstration purposes, we'll concatenate the original numerical columns (now cleaned and scaled)\n",
        "# with the one-hot encoded categorical DataFrame to view the fully preprocessed dataset.\n",
        "\n",
        "# Concatenating the numerical and encoded categorical dataframes\n",
        "new_df = pd.concat([df[numerical_cols].reset_index(drop=True), encoded_categorical_df.reset_index(drop=True)], axis=1)\n",
        "\n",
        "# Display the first few rows of the fully preprocessed (cleaned) DataFrame\n",
        "new_df.head()\n"
      ]
    },
    {
      "cell_type": "markdown",
      "metadata": {
        "id": "663MJ3juJQX6"
      },
      "source": [
        "# MODELLING"
      ]
    },
    {
      "cell_type": "code",
      "execution_count": 131,
      "metadata": {},
      "outputs": [],
      "source": [
        "\n",
        "# First, ensuring 'target' is included for completeness\n",
        "new_df = pd.concat([new_df, df['target'].reset_index(drop=True)], axis=1)\n"
      ]
    },
    {
      "cell_type": "code",
      "execution_count": 132,
      "metadata": {},
      "outputs": [],
      "source": [
        "\n",
        "# Separating features and target variable\n",
        "X = new_df.drop('target', axis=1)\n",
        "y = new_df['target']\n"
      ]
    },
    {
      "cell_type": "code",
      "execution_count": 133,
      "metadata": {},
      "outputs": [],
      "source": [
        "# To check if the target variable is balanced\n",
        "target = new_df['target'].value_counts().rename('total').reset_index()"
      ]
    },
    {
      "cell_type": "code",
      "execution_count": 134,
      "metadata": {},
      "outputs": [
        {
          "data": {
            "text/html": [
              "<div>\n",
              "<style scoped>\n",
              "    .dataframe tbody tr th:only-of-type {\n",
              "        vertical-align: middle;\n",
              "    }\n",
              "\n",
              "    .dataframe tbody tr th {\n",
              "        vertical-align: top;\n",
              "    }\n",
              "\n",
              "    .dataframe thead th {\n",
              "        text-align: right;\n",
              "    }\n",
              "</style>\n",
              "<table border=\"1\" class=\"dataframe\">\n",
              "  <thead>\n",
              "    <tr style=\"text-align: right;\">\n",
              "      <th></th>\n",
              "      <th>target</th>\n",
              "      <th>total</th>\n",
              "      <th>ratio</th>\n",
              "    </tr>\n",
              "  </thead>\n",
              "  <tbody>\n",
              "    <tr>\n",
              "      <th>0</th>\n",
              "      <td>1</td>\n",
              "      <td>512</td>\n",
              "      <td>0.45</td>\n",
              "    </tr>\n",
              "    <tr>\n",
              "      <th>1</th>\n",
              "      <td>0</td>\n",
              "      <td>431</td>\n",
              "      <td>0.38</td>\n",
              "    </tr>\n",
              "    <tr>\n",
              "      <th>2</th>\n",
              "      <td>2</td>\n",
              "      <td>143</td>\n",
              "      <td>0.13</td>\n",
              "    </tr>\n",
              "    <tr>\n",
              "      <th>3</th>\n",
              "      <td>3</td>\n",
              "      <td>35</td>\n",
              "      <td>0.03</td>\n",
              "    </tr>\n",
              "    <tr>\n",
              "      <th>4</th>\n",
              "      <td>4</td>\n",
              "      <td>13</td>\n",
              "      <td>0.01</td>\n",
              "    </tr>\n",
              "  </tbody>\n",
              "</table>\n",
              "</div>"
            ],
            "text/plain": [
              "   target  total  ratio\n",
              "0       1    512   0.45\n",
              "1       0    431   0.38\n",
              "2       2    143   0.13\n",
              "3       3     35   0.03\n",
              "4       4     13   0.01"
            ]
          },
          "execution_count": 134,
          "metadata": {},
          "output_type": "execute_result"
        }
      ],
      "source": [
        "target['ratio'] = target['total'].apply(lambda x: round(x/target['total'].sum(),2)) \n",
        "target"
      ]
    },
    {
      "cell_type": "code",
      "execution_count": 135,
      "metadata": {},
      "outputs": [
        {
          "data": {
            "image/png": "[encoded data removed]",
            "text/plain": [
              "<Figure size 1000x600 with 1 Axes>"
            ]
          },
          "metadata": {},
          "output_type": "display_data"
        }
      ],
      "source": [
        "plt.figure(figsize = (10,6))\n",
        "target['ratio'].plot.pie(startangle = 45, colors = ['pink', 'skyblue'], autopct = '%.1f%%')\n",
        "plt.show()"
      ]
    },
    {
      "cell_type": "code",
      "execution_count": 136,
      "metadata": {},
      "outputs": [
        {
          "data": {
            "text/plain": [
              "((907, 41), (227, 41), (907,), (227,))"
            ]
          },
          "execution_count": 136,
          "metadata": {},
          "output_type": "execute_result"
        }
      ],
      "source": [
        "\n",
        "# Splitting the dataset into training and testing sets\n",
        "X_train, X_test, y_train, y_test = train_test_split(X, y, test_size=0.2, random_state=42)\n",
        "\n",
        "# Confirming the shapes of the splits\n",
        "X_train.shape, X_test.shape, y_train.shape, y_test.shape\n"
      ]
    },
    {
      "cell_type": "code",
      "execution_count": 137,
      "metadata": {
        "colab": {
          "base_uri": "https://localhost:8080/",
          "height": 256
        },
        "id": "qn2apIPslpjN",
        "outputId": "8c3c8beb-28db-45c4-f9fc-32a843dce9ad"
      },
      "outputs": [
        {
          "data": {
            "text/html": [
              "<div>\n",
              "<style scoped>\n",
              "    .dataframe tbody tr th:only-of-type {\n",
              "        vertical-align: middle;\n",
              "    }\n",
              "\n",
              "    .dataframe tbody tr th {\n",
              "        vertical-align: top;\n",
              "    }\n",
              "\n",
              "    .dataframe thead th {\n",
              "        text-align: right;\n",
              "    }\n",
              "</style>\n",
              "<table border=\"1\" class=\"dataframe\">\n",
              "  <thead>\n",
              "    <tr style=\"text-align: right;\">\n",
              "      <th></th>\n",
              "      <th>age</th>\n",
              "      <th>trestbps</th>\n",
              "      <th>chol</th>\n",
              "      <th>thalach</th>\n",
              "      <th>oldpeak</th>\n",
              "      <th>sex_0.0</th>\n",
              "      <th>sex_1.0</th>\n",
              "      <th>sex_nan</th>\n",
              "      <th>cp_0.0</th>\n",
              "      <th>cp_1.0</th>\n",
              "      <th>...</th>\n",
              "      <th>ca_2.0</th>\n",
              "      <th>ca_3.0</th>\n",
              "      <th>ca_4.0</th>\n",
              "      <th>thal_0.0</th>\n",
              "      <th>thal_1.0</th>\n",
              "      <th>thal_2.0</th>\n",
              "      <th>thal_3.0</th>\n",
              "      <th>thal_6.0</th>\n",
              "      <th>thal_7.0</th>\n",
              "      <th>thal_nan</th>\n",
              "    </tr>\n",
              "  </thead>\n",
              "  <tbody>\n",
              "    <tr>\n",
              "      <th>784</th>\n",
              "      <td>0.294615</td>\n",
              "      <td>1.031171</td>\n",
              "      <td>0.587599</td>\n",
              "      <td>-1.664213</td>\n",
              "      <td>-0.396000</td>\n",
              "      <td>0.0</td>\n",
              "      <td>1.0</td>\n",
              "      <td>0.0</td>\n",
              "      <td>1.0</td>\n",
              "      <td>0.0</td>\n",
              "      <td>...</td>\n",
              "      <td>0.0</td>\n",
              "      <td>0.0</td>\n",
              "      <td>0.0</td>\n",
              "      <td>0.0</td>\n",
              "      <td>1.0</td>\n",
              "      <td>0.0</td>\n",
              "      <td>0.0</td>\n",
              "      <td>0.0</td>\n",
              "      <td>0.0</td>\n",
              "      <td>0.0</td>\n",
              "    </tr>\n",
              "    <tr>\n",
              "      <th>900</th>\n",
              "      <td>-0.391878</td>\n",
              "      <td>-0.650941</td>\n",
              "      <td>0.968225</td>\n",
              "      <td>0.312897</td>\n",
              "      <td>-0.396000</td>\n",
              "      <td>1.0</td>\n",
              "      <td>0.0</td>\n",
              "      <td>0.0</td>\n",
              "      <td>0.0</td>\n",
              "      <td>0.0</td>\n",
              "      <td>...</td>\n",
              "      <td>0.0</td>\n",
              "      <td>0.0</td>\n",
              "      <td>0.0</td>\n",
              "      <td>0.0</td>\n",
              "      <td>0.0</td>\n",
              "      <td>0.0</td>\n",
              "      <td>1.0</td>\n",
              "      <td>0.0</td>\n",
              "      <td>0.0</td>\n",
              "      <td>0.0</td>\n",
              "    </tr>\n",
              "    <tr>\n",
              "      <th>413</th>\n",
              "      <td>1.324354</td>\n",
              "      <td>-0.650941</td>\n",
              "      <td>1.108456</td>\n",
              "      <td>0.049282</td>\n",
              "      <td>-0.568154</td>\n",
              "      <td>0.0</td>\n",
              "      <td>1.0</td>\n",
              "      <td>0.0</td>\n",
              "      <td>1.0</td>\n",
              "      <td>0.0</td>\n",
              "      <td>...</td>\n",
              "      <td>0.0</td>\n",
              "      <td>0.0</td>\n",
              "      <td>0.0</td>\n",
              "      <td>0.0</td>\n",
              "      <td>0.0</td>\n",
              "      <td>1.0</td>\n",
              "      <td>0.0</td>\n",
              "      <td>0.0</td>\n",
              "      <td>0.0</td>\n",
              "      <td>0.0</td>\n",
              "    </tr>\n",
              "    <tr>\n",
              "      <th>467</th>\n",
              "      <td>0.065784</td>\n",
              "      <td>-0.090237</td>\n",
              "      <td>-0.514215</td>\n",
              "      <td>0.576512</td>\n",
              "      <td>-0.912461</td>\n",
              "      <td>0.0</td>\n",
              "      <td>1.0</td>\n",
              "      <td>0.0</td>\n",
              "      <td>0.0</td>\n",
              "      <td>0.0</td>\n",
              "      <td>...</td>\n",
              "      <td>0.0</td>\n",
              "      <td>0.0</td>\n",
              "      <td>0.0</td>\n",
              "      <td>0.0</td>\n",
              "      <td>0.0</td>\n",
              "      <td>0.0</td>\n",
              "      <td>1.0</td>\n",
              "      <td>0.0</td>\n",
              "      <td>0.0</td>\n",
              "      <td>0.0</td>\n",
              "    </tr>\n",
              "    <tr>\n",
              "      <th>746</th>\n",
              "      <td>0.294615</td>\n",
              "      <td>-0.426659</td>\n",
              "      <td>0.287104</td>\n",
              "      <td>-0.390075</td>\n",
              "      <td>-0.654231</td>\n",
              "      <td>0.0</td>\n",
              "      <td>1.0</td>\n",
              "      <td>0.0</td>\n",
              "      <td>0.0</td>\n",
              "      <td>1.0</td>\n",
              "      <td>...</td>\n",
              "      <td>0.0</td>\n",
              "      <td>0.0</td>\n",
              "      <td>0.0</td>\n",
              "      <td>0.0</td>\n",
              "      <td>0.0</td>\n",
              "      <td>0.0</td>\n",
              "      <td>1.0</td>\n",
              "      <td>0.0</td>\n",
              "      <td>0.0</td>\n",
              "      <td>0.0</td>\n",
              "    </tr>\n",
              "  </tbody>\n",
              "</table>\n",
              "<p>5 rows × 41 columns</p>\n",
              "</div>"
            ],
            "text/plain": [
              "          age  trestbps      chol   thalach   oldpeak  sex_0.0  sex_1.0  \\\n",
              "784  0.294615  1.031171  0.587599 -1.664213 -0.396000      0.0      1.0   \n",
              "900 -0.391878 -0.650941  0.968225  0.312897 -0.396000      1.0      0.0   \n",
              "413  1.324354 -0.650941  1.108456  0.049282 -0.568154      0.0      1.0   \n",
              "467  0.065784 -0.090237 -0.514215  0.576512 -0.912461      0.0      1.0   \n",
              "746  0.294615 -0.426659  0.287104 -0.390075 -0.654231      0.0      1.0   \n",
              "\n",
              "     sex_nan  cp_0.0  cp_1.0  ...  ca_2.0  ca_3.0  ca_4.0  thal_0.0  thal_1.0  \\\n",
              "784      0.0     1.0     0.0  ...     0.0     0.0     0.0       0.0       1.0   \n",
              "900      0.0     0.0     0.0  ...     0.0     0.0     0.0       0.0       0.0   \n",
              "413      0.0     1.0     0.0  ...     0.0     0.0     0.0       0.0       0.0   \n",
              "467      0.0     0.0     0.0  ...     0.0     0.0     0.0       0.0       0.0   \n",
              "746      0.0     0.0     1.0  ...     0.0     0.0     0.0       0.0       0.0   \n",
              "\n",
              "     thal_2.0  thal_3.0  thal_6.0  thal_7.0  thal_nan  \n",
              "784       0.0       0.0       0.0       0.0       0.0  \n",
              "900       0.0       1.0       0.0       0.0       0.0  \n",
              "413       1.0       0.0       0.0       0.0       0.0  \n",
              "467       0.0       1.0       0.0       0.0       0.0  \n",
              "746       0.0       1.0       0.0       0.0       0.0  \n",
              "\n",
              "[5 rows x 41 columns]"
            ]
          },
          "execution_count": 137,
          "metadata": {},
          "output_type": "execute_result"
        }
      ],
      "source": [
        "X_test.head()"
      ]
    },
    {
      "cell_type": "code",
      "execution_count": 138,
      "metadata": {
        "colab": {
          "base_uri": "https://localhost:8080/"
        },
        "id": "C2oe3MfmlqBB",
        "outputId": "a9c9b7f4-3feb-48bf-d2b2-4961a614c0ac"
      },
      "outputs": [
        {
          "data": {
            "text/plain": [
              "12     2\n",
              "381    1\n",
              "717    1\n",
              "497    0\n",
              "966    1\n",
              "Name: target, dtype: int64"
            ]
          },
          "execution_count": 138,
          "metadata": {},
          "output_type": "execute_result"
        }
      ],
      "source": [
        "y_train.head()"
      ]
    },
    {
      "cell_type": "code",
      "execution_count": 139,
      "metadata": {},
      "outputs": [
        {
          "data": {
            "text/plain": [
              "array([2, 1, 0, 3, 4])"
            ]
          },
          "execution_count": 139,
          "metadata": {},
          "output_type": "execute_result"
        }
      ],
      "source": [
        "y_train.unique()"
      ]
    },
    {
      "cell_type": "markdown",
      "metadata": {
        "id": "pZFcYEstJcC9"
      },
      "source": [
        "# **Logistic Regression**"
      ]
    },
    {
      "cell_type": "code",
      "execution_count": 140,
      "metadata": {
        "colab": {
          "base_uri": "https://localhost:8080/"
        },
        "id": "VoMYPt81lqYd",
        "outputId": "5f38673c-fd72-4d3d-b045-8db8e611c7b8"
      },
      "outputs": [
        {
          "name": "stdout",
          "output_type": "stream",
          "text": [
            "Logistic regression Accuracy: 0.6652\n",
            "               precision    recall  f1-score   support\n",
            "\n",
            "           0       0.71      0.66      0.69        94\n",
            "           1       0.69      0.72      0.70        99\n",
            "           2       0.53      0.74      0.62        23\n",
            "           3       0.20      0.10      0.13        10\n",
            "           4       0.00      0.00      0.00         1\n",
            "\n",
            "    accuracy                           0.67       227\n",
            "   macro avg       0.43      0.44      0.43       227\n",
            "weighted avg       0.66      0.67      0.66       227\n",
            "\n"
          ]
        },
        {
          "name": "stderr",
          "output_type": "stream",
          "text": [
            "/Users/user/Desktop/Cardiovascular-Disease-Prediction_-Report/venv/lib/python3.11/site-packages/sklearn/metrics/_classification.py:1509: UndefinedMetricWarning: Precision is ill-defined and being set to 0.0 in labels with no predicted samples. Use `zero_division` parameter to control this behavior.\n",
            "  _warn_prf(average, modifier, f\"{metric.capitalize()} is\", len(result))\n",
            "/Users/user/Desktop/Cardiovascular-Disease-Prediction_-Report/venv/lib/python3.11/site-packages/sklearn/metrics/_classification.py:1509: UndefinedMetricWarning: Precision is ill-defined and being set to 0.0 in labels with no predicted samples. Use `zero_division` parameter to control this behavior.\n",
            "  _warn_prf(average, modifier, f\"{metric.capitalize()} is\", len(result))\n",
            "/Users/user/Desktop/Cardiovascular-Disease-Prediction_-Report/venv/lib/python3.11/site-packages/sklearn/metrics/_classification.py:1509: UndefinedMetricWarning: Precision is ill-defined and being set to 0.0 in labels with no predicted samples. Use `zero_division` parameter to control this behavior.\n",
            "  _warn_prf(average, modifier, f\"{metric.capitalize()} is\", len(result))\n"
          ]
        }
      ],
      "source": [
        "\n",
        "# Initializing the Logistic Regression model\n",
        "log_reg = LogisticRegression(max_iter=1000, random_state=42)\n",
        "\n",
        "# Fitting the model on the training data\n",
        "log_reg.fit(X_train, y_train)\n",
        "\n",
        "# Predicting on the testing data\n",
        "y_pred = log_reg.predict(X_test)\n",
        "\n",
        "# Evaluating the model\n",
        "accuracy = accuracy_score(y_test, y_pred)\n",
        "conf_matrix = confusion_matrix(y_test, y_pred)\n",
        "class_report = classification_report(y_test, y_pred)\n",
        "\n",
        "print(f\"Logistic regression Accuracy: {accuracy:.4f}\\n {class_report}\")\n"
      ]
    },
    {
      "cell_type": "markdown",
      "metadata": {
        "id": "44xB2yiCJk-Y"
      },
      "source": [
        "# **SVC and LinearSVC**"
      ]
    },
    {
      "cell_type": "code",
      "execution_count": 141,
      "metadata": {
        "colab": {
          "base_uri": "https://localhost:8080/"
        },
        "id": "jUG2pSflsCSD",
        "outputId": "0e57d863-9dfd-4a3e-e04e-a43e35219406"
      },
      "outputs": [
        {
          "name": "stdout",
          "output_type": "stream",
          "text": [
            "SVC Accuracy: 0.6740\n",
            "Linear SVC Accuracy: 0.6784\n",
            "SVC :               precision    recall  f1-score   support\n",
            "\n",
            "           0       0.79      0.62      0.69        94\n",
            "           1       0.66      0.77      0.71        99\n",
            "           2       0.50      0.83      0.62        23\n",
            "           3       0.00      0.00      0.00        10\n",
            "           4       0.00      0.00      0.00         1\n",
            "\n",
            "    accuracy                           0.67       227\n",
            "   macro avg       0.39      0.44      0.40       227\n",
            "weighted avg       0.67      0.67      0.66       227\n",
            "\n",
            "Linear SVC:               precision    recall  f1-score   support\n",
            "\n",
            "           0       0.71      0.67      0.69        94\n",
            "           1       0.70      0.73      0.71        99\n",
            "           2       0.56      0.83      0.67        23\n",
            "           3       0.00      0.00      0.00        10\n",
            "           4       0.00      0.00      0.00         1\n",
            "\n",
            "    accuracy                           0.68       227\n",
            "   macro avg       0.39      0.44      0.41       227\n",
            "weighted avg       0.65      0.68      0.66       227\n",
            "\n"
          ]
        },
        {
          "name": "stderr",
          "output_type": "stream",
          "text": [
            "/Users/user/Desktop/Cardiovascular-Disease-Prediction_-Report/venv/lib/python3.11/site-packages/sklearn/metrics/_classification.py:1509: UndefinedMetricWarning: Precision is ill-defined and being set to 0.0 in labels with no predicted samples. Use `zero_division` parameter to control this behavior.\n",
            "  _warn_prf(average, modifier, f\"{metric.capitalize()} is\", len(result))\n",
            "/Users/user/Desktop/Cardiovascular-Disease-Prediction_-Report/venv/lib/python3.11/site-packages/sklearn/metrics/_classification.py:1509: UndefinedMetricWarning: Precision is ill-defined and being set to 0.0 in labels with no predicted samples. Use `zero_division` parameter to control this behavior.\n",
            "  _warn_prf(average, modifier, f\"{metric.capitalize()} is\", len(result))\n",
            "/Users/user/Desktop/Cardiovascular-Disease-Prediction_-Report/venv/lib/python3.11/site-packages/sklearn/metrics/_classification.py:1509: UndefinedMetricWarning: Precision is ill-defined and being set to 0.0 in labels with no predicted samples. Use `zero_division` parameter to control this behavior.\n",
            "  _warn_prf(average, modifier, f\"{metric.capitalize()} is\", len(result))\n",
            "/Users/user/Desktop/Cardiovascular-Disease-Prediction_-Report/venv/lib/python3.11/site-packages/sklearn/metrics/_classification.py:1509: UndefinedMetricWarning: Precision is ill-defined and being set to 0.0 in labels with no predicted samples. Use `zero_division` parameter to control this behavior.\n",
            "  _warn_prf(average, modifier, f\"{metric.capitalize()} is\", len(result))\n",
            "/Users/user/Desktop/Cardiovascular-Disease-Prediction_-Report/venv/lib/python3.11/site-packages/sklearn/metrics/_classification.py:1509: UndefinedMetricWarning: Precision is ill-defined and being set to 0.0 in labels with no predicted samples. Use `zero_division` parameter to control this behavior.\n",
            "  _warn_prf(average, modifier, f\"{metric.capitalize()} is\", len(result))\n",
            "/Users/user/Desktop/Cardiovascular-Disease-Prediction_-Report/venv/lib/python3.11/site-packages/sklearn/metrics/_classification.py:1509: UndefinedMetricWarning: Precision is ill-defined and being set to 0.0 in labels with no predicted samples. Use `zero_division` parameter to control this behavior.\n",
            "  _warn_prf(average, modifier, f\"{metric.capitalize()} is\", len(result))\n"
          ]
        }
      ],
      "source": [
        "\n",
        "# Initializing the Support Vector Machine models\n",
        "svm_clf = SVC(kernel='rbf', random_state=42)\n",
        "linear_svc_clf = LinearSVC(max_iter=10000, random_state=42)\n",
        "\n",
        "# Fitting the SVM model\n",
        "svm_clf.fit(X_train, y_train)\n",
        "# Predicting on the testing data with SVM\n",
        "y_pred_svm = svm_clf.predict(X_test)\n",
        "\n",
        "# Fitting the LinearSVC model\n",
        "linear_svc_clf.fit(X_train, y_train)\n",
        "# Predicting on the testing data with LinearSVC\n",
        "y_pred_linear_svc = linear_svc_clf.predict(X_test)\n",
        "\n",
        "# Evaluating the models\n",
        "accuracy_svm = accuracy_score(y_test, y_pred_svm)\n",
        "accuracy_linear_svc = accuracy_score(y_test, y_pred_linear_svc)\n",
        "svc_conf_matrix = confusion_matrix(y_test, y_pred_linear_svc)\n",
        "svm_class_report = classification_report(y_test, y_pred_svm)\n",
        "linear_svc_class_report = classification_report(y_test, y_pred_linear_svc)\n",
        "\n",
        "accuracy_svm, accuracy_linear_svc\n",
        "\n",
        "print(f\"SVC Accuracy: {accuracy_svm:.4f}\\nLinear SVC Accuracy: {accuracy_linear_svc:.4f}\")\n",
        "print(f\"SVC : {svm_class_report}\\nLinear SVC: {linear_svc_class_report}\")"
      ]
    },
    {
      "cell_type": "markdown",
      "metadata": {
        "id": "UHg9emgvJtEK"
      },
      "source": [
        "# **KNeighborsClassifier**"
      ]
    },
    {
      "cell_type": "code",
      "execution_count": 142,
      "metadata": {
        "colab": {
          "base_uri": "https://localhost:8080/"
        },
        "id": "0PM42ltksCxq",
        "outputId": "ec5281a7-50ce-42dd-942a-222c6c53d93f"
      },
      "outputs": [
        {
          "name": "stdout",
          "output_type": "stream",
          "text": [
            "KNN Model Accuracy: 0.5947\n",
            "               precision    recall  f1-score   support\n",
            "\n",
            "           0       0.62      0.74      0.68        94\n",
            "           1       0.65      0.56      0.60        99\n",
            "           2       0.37      0.43      0.40        23\n",
            "           3       0.00      0.00      0.00        10\n",
            "           4       0.00      0.00      0.00         1\n",
            "\n",
            "    accuracy                           0.59       227\n",
            "   macro avg       0.33      0.35      0.33       227\n",
            "weighted avg       0.58      0.59      0.58       227\n",
            "\n"
          ]
        },
        {
          "name": "stderr",
          "output_type": "stream",
          "text": [
            "/Users/user/Desktop/Cardiovascular-Disease-Prediction_-Report/venv/lib/python3.11/site-packages/sklearn/metrics/_classification.py:1509: UndefinedMetricWarning: Precision is ill-defined and being set to 0.0 in labels with no predicted samples. Use `zero_division` parameter to control this behavior.\n",
            "  _warn_prf(average, modifier, f\"{metric.capitalize()} is\", len(result))\n",
            "/Users/user/Desktop/Cardiovascular-Disease-Prediction_-Report/venv/lib/python3.11/site-packages/sklearn/metrics/_classification.py:1509: UndefinedMetricWarning: Precision is ill-defined and being set to 0.0 in labels with no predicted samples. Use `zero_division` parameter to control this behavior.\n",
            "  _warn_prf(average, modifier, f\"{metric.capitalize()} is\", len(result))\n",
            "/Users/user/Desktop/Cardiovascular-Disease-Prediction_-Report/venv/lib/python3.11/site-packages/sklearn/metrics/_classification.py:1509: UndefinedMetricWarning: Precision is ill-defined and being set to 0.0 in labels with no predicted samples. Use `zero_division` parameter to control this behavior.\n",
            "  _warn_prf(average, modifier, f\"{metric.capitalize()} is\", len(result))\n"
          ]
        }
      ],
      "source": [
        "\n",
        "\n",
        "# Initialize the KNN model\n",
        "knn_clf = KNeighborsClassifier(n_neighbors=5)\n",
        "\n",
        "# Fit the model\n",
        "knn_clf.fit(X_train, y_train)\n",
        "\n",
        "# Make predictions\n",
        "y_pred_knn = knn_clf.predict(X_test)\n",
        "\n",
        "# Evaluate the model\n",
        "accuracy_knn = accuracy_score(y_test, y_pred_knn)\n",
        "knn_conf_matrix = confusion_matrix(y_test, y_pred_knn)\n",
        "knn_class_report = classification_report(y_test, y_pred_knn)\n",
        "print(f\"KNN Model Accuracy: {accuracy_knn:.4f}\\n {knn_class_report}\")\n"
      ]
    },
    {
      "cell_type": "markdown",
      "metadata": {
        "id": "WAs5oBafJzcs"
      },
      "source": [
        "# **SGDClassifier**"
      ]
    },
    {
      "cell_type": "code",
      "execution_count": 143,
      "metadata": {
        "colab": {
          "base_uri": "https://localhost:8080/"
        },
        "id": "LB4XoR--sDas",
        "outputId": "9b6675b1-484d-4795-dcf7-24d3f8e87403"
      },
      "outputs": [
        {
          "name": "stdout",
          "output_type": "stream",
          "text": [
            "SGD Model Accuracy: 0.5727\n",
            "               precision    recall  f1-score   support\n",
            "\n",
            "           0       0.55      0.85      0.67        94\n",
            "           1       0.73      0.46      0.57        99\n",
            "           2       0.38      0.13      0.19        23\n",
            "           3       0.09      0.10      0.10        10\n",
            "           4       0.00      0.00      0.00         1\n",
            "\n",
            "    accuracy                           0.57       227\n",
            "   macro avg       0.35      0.31      0.31       227\n",
            "weighted avg       0.59      0.57      0.55       227\n",
            "\n"
          ]
        },
        {
          "name": "stderr",
          "output_type": "stream",
          "text": [
            "/Users/user/Desktop/Cardiovascular-Disease-Prediction_-Report/venv/lib/python3.11/site-packages/sklearn/metrics/_classification.py:1509: UndefinedMetricWarning: Precision is ill-defined and being set to 0.0 in labels with no predicted samples. Use `zero_division` parameter to control this behavior.\n",
            "  _warn_prf(average, modifier, f\"{metric.capitalize()} is\", len(result))\n",
            "/Users/user/Desktop/Cardiovascular-Disease-Prediction_-Report/venv/lib/python3.11/site-packages/sklearn/metrics/_classification.py:1509: UndefinedMetricWarning: Precision is ill-defined and being set to 0.0 in labels with no predicted samples. Use `zero_division` parameter to control this behavior.\n",
            "  _warn_prf(average, modifier, f\"{metric.capitalize()} is\", len(result))\n",
            "/Users/user/Desktop/Cardiovascular-Disease-Prediction_-Report/venv/lib/python3.11/site-packages/sklearn/metrics/_classification.py:1509: UndefinedMetricWarning: Precision is ill-defined and being set to 0.0 in labels with no predicted samples. Use `zero_division` parameter to control this behavior.\n",
            "  _warn_prf(average, modifier, f\"{metric.capitalize()} is\", len(result))\n"
          ]
        }
      ],
      "source": [
        "# Initializing the Stochastic Gradient Descent Classifier\n",
        "sgd_clf = SGDClassifier(max_iter=1000, tol=1e-3, random_state=42)\n",
        "\n",
        "# Fitting the model on the training data\n",
        "sgd_clf.fit(X_train, y_train)\n",
        "\n",
        "# Predicting on the testing data with SGD\n",
        "y_pred_sgd = sgd_clf.predict(X_test)\n",
        "\n",
        "# Evaluating the SGD model\n",
        "accuracy_sgd = accuracy_score(y_test, y_pred_sgd)\n",
        "sgd_conf_matrix = confusion_matrix(y_test, y_pred_sgd)\n",
        "sgd_class_report = classification_report(y_test, y_pred_sgd)\n",
        "\n",
        "print(f\"SGD Model Accuracy: {accuracy_sgd:.4f}\\n {sgd_class_report}\")\n"
      ]
    },
    {
      "cell_type": "markdown",
      "metadata": {
        "id": "V5In6OYZJ4dd"
      },
      "source": [
        "# **GradientBoostingClassifier**"
      ]
    },
    {
      "cell_type": "code",
      "execution_count": 144,
      "metadata": {
        "colab": {
          "base_uri": "https://localhost:8080/"
        },
        "id": "xG4d3DuXsETb",
        "outputId": "864a6e5c-a17a-41f9-910d-a946d27aa1ae"
      },
      "outputs": [
        {
          "name": "stdout",
          "output_type": "stream",
          "text": [
            "GB Model Accuracy: 0.6123\n",
            "               precision    recall  f1-score   support\n",
            "\n",
            "           0       0.71      0.69      0.70        94\n",
            "           1       0.68      0.66      0.67        99\n",
            "           2       0.30      0.39      0.34        23\n",
            "           3       0.00      0.00      0.00        10\n",
            "           4       0.00      0.00      0.00         1\n",
            "\n",
            "    accuracy                           0.61       227\n",
            "   macro avg       0.34      0.35      0.34       227\n",
            "weighted avg       0.62      0.61      0.62       227\n",
            "\n"
          ]
        }
      ],
      "source": [
        "\n",
        "# Initializing the Gradient Boosting Classifier\n",
        "gb_clf = GradientBoostingClassifier(n_estimators=100, learning_rate=0.1, max_depth=3, random_state=42)\n",
        "\n",
        "# Fitting the model on the training data\n",
        "gb_clf.fit(X_train, y_train)\n",
        "\n",
        "# Predicting on the testing data with Gradient Boosting\n",
        "y_pred_gb = gb_clf.predict(X_test)\n",
        "\n",
        "# Evaluating the Gradient Boosting model\n",
        "accuracy_gb = accuracy_score(y_test, y_pred_gb)\n",
        "gb_conf_matrix = confusion_matrix(y_test, y_pred_gb)\n",
        "gb_class_report = classification_report(y_test, y_pred_gb)\n",
        "print(f\"GB Model Accuracy: {accuracy_gb:.4f}\\n {gb_class_report}\")"
      ]
    },
    {
      "cell_type": "markdown",
      "metadata": {
        "id": "-5pI4BNMKBEp"
      },
      "source": [
        "# **DecisionTreeClassifier**"
      ]
    },
    {
      "cell_type": "code",
      "execution_count": 145,
      "metadata": {
        "colab": {
          "base_uri": "https://localhost:8080/"
        },
        "id": "y9cv6aJpsE7T",
        "outputId": "0ad5a18e-a943-4418-f022-9bac0b2e0397"
      },
      "outputs": [
        {
          "name": "stdout",
          "output_type": "stream",
          "text": [
            "Dt Model Accuracy: 0.5639\n",
            "               precision    recall  f1-score   support\n",
            "\n",
            "           0       0.67      0.65      0.66        94\n",
            "           1       0.60      0.59      0.59        99\n",
            "           2       0.30      0.35      0.32        23\n",
            "           3       0.12      0.10      0.11        10\n",
            "           4       0.00      0.00      0.00         1\n",
            "\n",
            "    accuracy                           0.56       227\n",
            "   macro avg       0.34      0.34      0.34       227\n",
            "weighted avg       0.57      0.56      0.57       227\n",
            "\n"
          ]
        }
      ],
      "source": [
        "# Initializing the Decision Tree Classifier\n",
        "dt_clf = DecisionTreeClassifier(random_state=42)\n",
        "\n",
        "# Fitting the model on the training data\n",
        "dt_clf.fit(X_train, y_train)\n",
        "\n",
        "# Predicting on the testing data with Decision Tree\n",
        "y_pred_dt = dt_clf.predict(X_test)\n",
        "\n",
        "# Evaluating the Decision Tree model\n",
        "accuracy_dt = accuracy_score(y_test, y_pred_dt)\n",
        "dt_conf_matrix = confusion_matrix(y_test, y_pred_dt)\n",
        "dt_class_report = classification_report(y_test, y_pred_dt)\n",
        "print(f\"Dt Model Accuracy: {accuracy_dt:.4f}\\n {dt_class_report}\")\n"
      ]
    },
    {
      "cell_type": "markdown",
      "metadata": {
        "id": "KYR_VznkKFdZ"
      },
      "source": [
        "# **RandomForestClassifier**"
      ]
    },
    {
      "cell_type": "code",
      "execution_count": 146,
      "metadata": {
        "colab": {
          "base_uri": "https://localhost:8080/"
        },
        "id": "l862bnGAlrDy",
        "outputId": "0d8d159b-c4ea-4ac9-d1cc-42f4e037bebf"
      },
      "outputs": [
        {
          "name": "stdout",
          "output_type": "stream",
          "text": [
            "RF Model Accuracy: 0.5727\n",
            "               precision    recall  f1-score   support\n",
            "\n",
            "           0       0.66      0.68      0.67        94\n",
            "           1       0.63      0.57      0.60        99\n",
            "           2       0.31      0.43      0.36        23\n",
            "           3       0.00      0.00      0.00        10\n",
            "           4       0.00      0.00      0.00         1\n",
            "\n",
            "    accuracy                           0.57       227\n",
            "   macro avg       0.32      0.34      0.33       227\n",
            "weighted avg       0.58      0.57      0.57       227\n",
            "\n"
          ]
        }
      ],
      "source": [
        "\n",
        "# Initializing the Random Forest Classifier\n",
        "rf_clf = RandomForestClassifier(n_estimators=100, random_state=42)\n",
        "\n",
        "# Fitting the model on the training data\n",
        "rf_clf.fit(X_train, y_train)\n",
        "\n",
        "# Predicting on the testing data with Random Forest\n",
        "y_pred_rf = rf_clf.predict(X_test)\n",
        "\n",
        "# Evaluating the Random Forest model\n",
        "accuracy_rf = accuracy_score(y_test, y_pred_rf)\n",
        "rf_conf_matrix = confusion_matrix(y_test, y_pred_rf)\n",
        "rf_class_report = classification_report(y_test, y_pred_rf)\n",
        "print(f\"RF Model Accuracy: {accuracy_rf:.4f}\\n {rf_class_report}\")\n"
      ]
    },
    {
      "cell_type": "markdown",
      "metadata": {
        "id": "Ro4551HkKKk9"
      },
      "source": [
        "# **XGBClassifier**"
      ]
    },
    {
      "cell_type": "code",
      "execution_count": 147,
      "metadata": {
        "colab": {
          "base_uri": "https://localhost:8080/"
        },
        "id": "5Vdgnwf04TNz",
        "outputId": "8ee3395b-f52f-405a-be2f-53b7921a8816"
      },
      "outputs": [
        {
          "name": "stdout",
          "output_type": "stream",
          "text": [
            "XGB Model Accuracy: 0.5859\n",
            "               precision    recall  f1-score   support\n",
            "\n",
            "           0       0.70      0.66      0.68        94\n",
            "           1       0.64      0.63      0.63        99\n",
            "           2       0.31      0.39      0.35        23\n",
            "           3       0.00      0.00      0.00        10\n",
            "           4       0.00      0.00      0.00         1\n",
            "\n",
            "    accuracy                           0.59       227\n",
            "   macro avg       0.33      0.34      0.33       227\n",
            "weighted avg       0.60      0.59      0.59       227\n",
            "\n"
          ]
        }
      ],
      "source": [
        "\n",
        "# Initializing the XGB Classifier\n",
        "xgb_clf = XGBClassifier(use_label_encoder=False, eval_metric='logloss', random_state=42)\n",
        "\n",
        "# Fitting the model on the training data\n",
        "xgb_clf.fit(X_train, y_train)\n",
        "\n",
        "# Predicting on the testing data with XGB Classifier\n",
        "y_pred_xgb = xgb_clf.predict(X_test)\n",
        "\n",
        "# Evaluating the XGB Classifier model\n",
        "accuracy_xgb = accuracy_score(y_test, y_pred_xgb)\n",
        "xgb_conf_matrix = confusion_matrix(y_test, y_pred_xgb)\n",
        "xgb_class_report = classification_report(y_test, y_pred_xgb)\n",
        "print(f\"XGB Model Accuracy: {accuracy_xgb:.4f}\\n {xgb_class_report}\")\n"
      ]
    },
    {
      "cell_type": "markdown",
      "metadata": {
        "id": "MtWyp8UYHDOY"
      },
      "source": [
        "## CONCLUSION AND RECOMMENDATION\n",
        "- Due to our machine learning models, we discovered both logistic Regressor, Svc and Linear Svc  had the highest percentage of 66% amidst other predictive models. although our result is based on our target variable been imbalance and we therefore make our decisions with the weighted average f1-score."
      ]
    }
  ],
  "metadata": {
    "accelerator": "GPU",
    "colab": {
      "gpuType": "V100",
      "machine_shape": "hm",
      "provenance": []
    },
    "kernelspec": {
      "display_name": "Python 3",
      "name": "python3"
    },
    "language_info": {
      "codemirror_mode": {
        "name": "ipython",
        "version": 3
      },
      "file_extension": ".py",
      "mimetype": "text/x-python",
      "name": "python",
      "nbconvert_exporter": "python",
      "pygments_lexer": "ipython3",
      "version": "3.11.5"
    }
  },
  "nbformat": 4,
  "nbformat_minor": 0
}
